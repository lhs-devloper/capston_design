{
 "cells": [
  {
   "cell_type": "code",
   "execution_count": 62,
   "metadata": {},
   "outputs": [],
   "source": [
    "from sklearn.preprocessing import PolynomialFeatures\n",
    "from sklearn.model_selection import train_test_split\n",
    "from sklearn.linear_model import LinearRegression, ElasticNet, Lasso, Ridge\n",
    "from sklearn.pipeline import make_pipeline\n",
    "from sklearn.metrics import mean_squared_error\n",
    "import pandas as pd\n",
    "import numpy as np\n",
    "from glob import glob\n",
    "import joblib"
   ]
  },
  {
   "cell_type": "code",
   "execution_count": 88,
   "metadata": {},
   "outputs": [
    {
     "name": "stdout",
     "output_type": "stream",
     "text": [
      "C:\\Users\\sdsd0\\Desktop\\scrappping(whoscored)\\data\n"
     ]
    }
   ],
   "source": [
    "%cd C:/Users/sdsd0/Desktop/scrappping(whoscored)/data\n",
    "player_list = glob(\"new_Hitter/*.csv\")\n",
    "stats_list = [\n",
    "        \"Unnamed: 0\",\n",
    "        \"year\",\n",
    "        \"team\",\n",
    "        \"age\",\n",
    "        \"G\",\n",
    "        \"PA\",\n",
    "        \"AB\",\n",
    "        \"R\",\n",
    "        \"HIT\",\n",
    "        \"HIT_2\",\n",
    "        \"HIT_3\",\n",
    "        \"HOME_RUN\",\n",
    "        \"BASE\",\n",
    "        \"RBI\",\n",
    "        \"SB\",\n",
    "        \"CS\",\n",
    "        \"HBP\",\n",
    "        \"IBB\",\n",
    "        \"SO\",\n",
    "        \"GDP\",\n",
    "        \"SH\",\n",
    "        \"SF\",\n",
    "        \"AVG\",\n",
    "        \"OBP\",\n",
    "        \"SLG\",\n",
    "        \"OPS\",\n",
    "        \"wOBA\",\n",
    "        \"wRC\",\n",
    "        \"WAR\",\n",
    "        \"Name\",\n",
    "    ]\n",
    "df1 = pd.DataFrame(columns=stats_list)\n",
    "df2 = pd.DataFrame(columns=stats_list)\n",
    "df3 = pd.DataFrame(columns=stats_list)\n",
    "df4 = pd.DataFrame(columns=stats_list)\n",
    "def fill(stats):\n",
    "    if stats==\" \":\n",
    "        return 0\n",
    "    elif stats==0:\n",
    "        return 0\n",
    "    else:\n",
    "        return float(stats)\n",
    "def plus(year):\n",
    "    return int(year+1)\n",
    "def name_replace(name):\n",
    "    name = name.replace('new_Hitter\\\\','')\n",
    "    name = name.replace('.csv','')\n",
    "    return name\n",
    "for i in player_list:\n",
    "    df = pd.read_csv(f\"{i}\")\n",
    "    df[\"WAR\"] = df[\"WAR\"].apply(fill)\n",
    "    if df[\"WAR\"].sum()>20:\n",
    "        continue\n",
    "    if len(df)==1:\n",
    "        name = name_replace(i)\n",
    "        df[\"Name\"] = name\n",
    "        df1 = pd.concat([df1, df])\n",
    "    if len(df)==2:\n",
    "        name = name_replace(i)\n",
    "        df[\"Name\"] = name\n",
    "        df2 = pd.concat([df2, df])\n",
    "    if len(df)==3:\n",
    "        name = name_replace(i)\n",
    "        df[\"Name\"] = name\n",
    "        df3 = pd.concat([df3, df])\n",
    "    if len(df)==4:\n",
    "        name = name_replace(i)\n",
    "        df[\"Name\"] = name\n",
    "        df4 = pd.concat([df4, df])\n",
    "df1 = df1.drop([\"Unnamed: 0\"],axis=1)\n",
    "df2 = df2.drop([\"Unnamed: 0\"],axis=1)\n",
    "df3 = df3.drop([\"Unnamed: 0\"],axis=1)\n",
    "df4 = df4.drop([\"Unnamed: 0\"],axis=1)\n",
    "# df1 1년차\n",
    "# df2 2년차\n",
    "# df3 3년차\n",
    "df1[\"year\"] = df1[\"year\"].apply(plus)\n",
    "df2[\"year\"] = df2[\"year\"].apply(plus)\n",
    "df3[\"year\"] = df3[\"year\"].apply(plus)\n",
    "df4[\"year\"] = df4[\"year\"].apply(plus)\n",
    "\n",
    "df_1 = df1[[\"WAR\", \"year\",\"age\"]]\n",
    "df_2 = df2[[\"WAR\", \"year\",\"age\"]]\n",
    "df_3 = df3[[\"WAR\", \"year\",\"age\"]]\n",
    "df_4 = df4[[\"WAR\", \"Name\", \"year\",\"age\"]]"
   ]
  },
  {
   "cell_type": "code",
   "execution_count": 64,
   "metadata": {},
   "outputs": [],
   "source": [
    "loaded_model_1 = joblib.load('model/train_num1_model.pkl')\n",
    "loaded_model_2 = joblib.load('model/train_num2_model.pkl')\n",
    "loaded_model_3 = joblib.load('model/train_num3_model.pkl')"
   ]
  },
  {
   "cell_type": "code",
   "execution_count": 65,
   "metadata": {},
   "outputs": [],
   "source": [
    "num_1_predict = loaded_model_1.predict(df_1)\n",
    "num_2_predict = loaded_model_2.predict(df_2)\n",
    "#-------------------------------------------------------\n",
    "def datasets(dataset, presure):\n",
    "    data = list()\n",
    "    ds_value = list(dataset.values)\n",
    "\n",
    "    for i in range(0,len(dataset),presure):\n",
    "        data.append(list(ds_value[i])+list(ds_value[i+1]))\n",
    "    return np.array(data)\n",
    "update_df3 = datasets(df_3, 3)\n",
    "num_3_predict = loaded_model_3.predict(update_df3)"
   ]
  },
  {
   "cell_type": "code",
   "execution_count": 66,
   "metadata": {},
   "outputs": [],
   "source": [
    "d = {\"Name\": df1[\"Name\"].values,\"WAR\":num_1_predict, \"year\": [2]*len(df1)}\n",
    "model_1_df = pd.DataFrame(d)\n",
    "model_1_df = pd.concat([df1, model_1_df])\n",
    "model_1_df = model_1_df[[\"WAR\", \"Name\", \"year\", \"age\"]]\n",
    "d = {\"Name\": df2[\"Name\"].values,\"WAR\":num_2_predict, \"year\": [3, 4]*(len(df2)//2)}\n",
    "model_2_df = pd.DataFrame(d)\n",
    "model_2_df = pd.concat([df2, model_2_df])\n",
    "model_2_df = model_2_df[[\"WAR\", \"Name\", \"year\", \"age\"]]\n",
    "d = {\"Name\": df3[\"Name\"].unique(),\"WAR\":num_3_predict, \"year\": [4]*len(update_df3)}\n",
    "model_3_df = pd.DataFrame(d)\n",
    "model_3_df = pd.concat([df3, model_3_df])\n",
    "model_3_df = model_3_df[[\"WAR\", \"Name\", \"year\", \"age\"]]\n",
    "\n",
    "model_1_df = model_1_df.sort_values(by=['Name','year'] ,ascending=True)\n",
    "model_2_df = model_2_df.sort_values(by=['Name','year'] ,ascending=True)\n",
    "model_3_df = model_3_df.sort_values(by=['Name','year'] ,ascending=True)\n",
    "\n",
    "model_1_df = model_1_df.reset_index(drop=True)\n",
    "model_2_df = model_2_df.reset_index(drop=True)\n",
    "model_3_df = model_3_df.reset_index(drop=True)"
   ]
  },
  {
   "cell_type": "code",
   "execution_count": 67,
   "metadata": {},
   "outputs": [
    {
     "name": "stderr",
     "output_type": "stream",
     "text": [
      "<ipython-input-67-90c8b0710234>:4: SettingWithCopyWarning: \n",
      "A value is trying to be set on a copy of a slice from a DataFrame\n",
      "\n",
      "See the caveats in the documentation: https://pandas.pydata.org/pandas-docs/stable/user_guide/indexing.html#returning-a-view-versus-a-copy\n",
      "  model_1_df[\"age\"][i] = model_1_df[\"age\"][i-1]+1\n",
      "<ipython-input-67-90c8b0710234>:10: SettingWithCopyWarning: \n",
      "A value is trying to be set on a copy of a slice from a DataFrame\n",
      "\n",
      "See the caveats in the documentation: https://pandas.pydata.org/pandas-docs/stable/user_guide/indexing.html#returning-a-view-versus-a-copy\n",
      "  model_2_df[\"age\"][i] = model_2_df[\"age\"][i-1]+1\n",
      "<ipython-input-67-90c8b0710234>:16: SettingWithCopyWarning: \n",
      "A value is trying to be set on a copy of a slice from a DataFrame\n",
      "\n",
      "See the caveats in the documentation: https://pandas.pydata.org/pandas-docs/stable/user_guide/indexing.html#returning-a-view-versus-a-copy\n",
      "  model_3_df[\"age\"][i] = model_3_df[\"age\"][i-1]+1\n"
     ]
    }
   ],
   "source": [
    "# model_3_df[model_3_df[\"Name\"]==\"고명성\"]\n",
    "for i in range(len(model_1_df)):\n",
    "    if pd.isna(model_1_df[\"age\"][i]):\n",
    "        model_1_df[\"age\"][i] = model_1_df[\"age\"][i-1]+1\n",
    "    else:\n",
    "        continue\n",
    "        \n",
    "for i in range(len(model_2_df)):\n",
    "    if pd.isna(model_2_df[\"age\"][i]):\n",
    "        model_2_df[\"age\"][i] = model_2_df[\"age\"][i-1]+1\n",
    "    else:\n",
    "        continue\n",
    "\n",
    "for i in range(len(model_3_df)):\n",
    "    if pd.isna(model_3_df[\"age\"][i]):\n",
    "        model_3_df[\"age\"][i] = model_3_df[\"age\"][i-1]+1\n",
    "    else:\n",
    "        continue\n"
   ]
  },
  {
   "cell_type": "code",
   "execution_count": 68,
   "metadata": {},
   "outputs": [],
   "source": [
    "main_load_model = joblib.load('model/main_model.pkl')"
   ]
  },
  {
   "cell_type": "code",
   "execution_count": 73,
   "metadata": {},
   "outputs": [
    {
     "data": {
      "text/plain": [
       "1.7964089028991095"
      ]
     },
     "execution_count": 73,
     "metadata": {},
     "output_type": "execute_result"
    }
   ],
   "source": [
    "# main_load_model()\n",
    "model_1_df[\"WAR\"].max()"
   ]
  },
  {
   "cell_type": "code",
   "execution_count": 100,
   "metadata": {},
   "outputs": [
    {
     "name": "stderr",
     "output_type": "stream",
     "text": [
      "<ipython-input-100-effaac46ec43>:12: SettingWithCopyWarning: \n",
      "A value is trying to be set on a copy of a slice from a DataFrame\n",
      "\n",
      "See the caveats in the documentation: https://pandas.pydata.org/pandas-docs/stable/user_guide/indexing.html#returning-a-view-versus-a-copy\n",
      "  re_model_1_df[\"age\"][i] = re_model_1_df[\"age\"][i-1]+1\n"
     ]
    }
   ],
   "source": [
    "re_model_1_df = model_1_df[[\"WAR\",\"year\",\"age\"]]\n",
    "re_num_1_predict = loaded_model_2.predict(re_model_1_df)\n",
    "\n",
    "d = {\"Name\": model_1_df[\"Name\"].values,\"WAR\":re_num_1_predict, \"year\": [3, 4]*(len(model_1_df)//2)}\n",
    "re_model_1_df = pd.DataFrame(d)\n",
    "re_model_1_df = pd.concat([model_1_df, re_model_1_df])\n",
    "re_model_1_df = re_model_1_df[[\"WAR\", \"Name\", \"year\", \"age\"]]\n",
    "re_model_1_df = re_model_1_df.sort_values(by=['Name','year'] ,ascending=True)\n",
    "re_model_1_df = re_model_1_df.reset_index(drop=True)\n",
    "for i in range(len(re_model_1_df)):\n",
    "    if pd.isna(re_model_1_df[\"age\"][i]):\n",
    "        re_model_1_df[\"age\"][i] = re_model_1_df[\"age\"][i-1]+1\n",
    "    else:\n",
    "        continue"
   ]
  },
  {
   "cell_type": "code",
   "execution_count": 113,
   "metadata": {},
   "outputs": [],
   "source": [
    "new_hitter_df = pd.concat([model_2_df, model_3_df, re_model_1_df, df_4])\n",
    "new_hitter_df = new_hitter_df.sort_values(by=['Name','year'] ,ascending=True)\n",
    "new_hitter_df = new_hitter_df.reset_index(drop=True)\n",
    "new_hitter = new_hitter_df[[\"WAR\", \"year\",\"age\"]]\n",
    "\n",
    "main_predict = main_load_model.predict(new_hitter)\n",
    "\n",
    "d = {\"Name\": new_hitter_df[\"Name\"].values,\"WAR\":main_predict, \"year\": [5,6,7,8]*(len(new_hitter_df)//4)}\n",
    "main_df = pd.DataFrame(d)\n",
    "main_df = pd.concat([new_hitter_df, main_df])\n",
    "main_df = main_df[[\"WAR\", \"Name\", \"year\"]]\n",
    "main_df = main_df.sort_values(by=['Name','year'] ,ascending=True)\n",
    "main_df = main_df.reset_index(drop=True)"
   ]
  },
  {
   "cell_type": "code",
   "execution_count": 116,
   "metadata": {},
   "outputs": [
    {
     "data": {
      "text/html": [
       "<div>\n",
       "<style scoped>\n",
       "    .dataframe tbody tr th:only-of-type {\n",
       "        vertical-align: middle;\n",
       "    }\n",
       "\n",
       "    .dataframe tbody tr th {\n",
       "        vertical-align: top;\n",
       "    }\n",
       "\n",
       "    .dataframe thead th {\n",
       "        text-align: right;\n",
       "    }\n",
       "</style>\n",
       "<table border=\"1\" class=\"dataframe\">\n",
       "  <thead>\n",
       "    <tr style=\"text-align: right;\">\n",
       "      <th></th>\n",
       "      <th>WAR</th>\n",
       "      <th>Name</th>\n",
       "      <th>year</th>\n",
       "    </tr>\n",
       "  </thead>\n",
       "  <tbody>\n",
       "    <tr>\n",
       "      <th>8</th>\n",
       "      <td>-0.050000</td>\n",
       "      <td>고명성</td>\n",
       "      <td>1</td>\n",
       "    </tr>\n",
       "    <tr>\n",
       "      <th>9</th>\n",
       "      <td>-0.170000</td>\n",
       "      <td>고명성</td>\n",
       "      <td>2</td>\n",
       "    </tr>\n",
       "    <tr>\n",
       "      <th>10</th>\n",
       "      <td>-0.010000</td>\n",
       "      <td>고명성</td>\n",
       "      <td>3</td>\n",
       "    </tr>\n",
       "    <tr>\n",
       "      <th>11</th>\n",
       "      <td>1.340867</td>\n",
       "      <td>고명성</td>\n",
       "      <td>4</td>\n",
       "    </tr>\n",
       "    <tr>\n",
       "      <th>12</th>\n",
       "      <td>2.744514</td>\n",
       "      <td>고명성</td>\n",
       "      <td>5</td>\n",
       "    </tr>\n",
       "    <tr>\n",
       "      <th>13</th>\n",
       "      <td>2.554481</td>\n",
       "      <td>고명성</td>\n",
       "      <td>6</td>\n",
       "    </tr>\n",
       "    <tr>\n",
       "      <th>14</th>\n",
       "      <td>2.395462</td>\n",
       "      <td>고명성</td>\n",
       "      <td>7</td>\n",
       "    </tr>\n",
       "    <tr>\n",
       "      <th>15</th>\n",
       "      <td>2.447528</td>\n",
       "      <td>고명성</td>\n",
       "      <td>8</td>\n",
       "    </tr>\n",
       "  </tbody>\n",
       "</table>\n",
       "</div>"
      ],
      "text/plain": [
       "         WAR Name  year\n",
       "8  -0.050000  고명성     1\n",
       "9  -0.170000  고명성     2\n",
       "10 -0.010000  고명성     3\n",
       "11  1.340867  고명성     4\n",
       "12  2.744514  고명성     5\n",
       "13  2.554481  고명성     6\n",
       "14  2.395462  고명성     7\n",
       "15  2.447528  고명성     8"
      ]
     },
     "execution_count": 116,
     "metadata": {},
     "output_type": "execute_result"
    }
   ],
   "source": [
    "main_df[main_df[\"Name\"]==\"고명성\"]"
   ]
  },
  {
   "cell_type": "code",
   "execution_count": 119,
   "metadata": {},
   "outputs": [
    {
     "data": {
      "image/png": "[encoded data removed]",
      "text/plain": [
       "<Figure size 720x864 with 1 Axes>"
      ]
     },
     "metadata": {
      "needs_background": "light"
     },
     "output_type": "display_data"
    }
   ],
   "source": [
    "import matplotlib.pyplot as plt\n",
    "x = main_df[main_df[\"Name\"]==\"강백호\"][\"year\"]\n",
    "y = main_df[main_df[\"Name\"]==\"강백호\"][\"WAR\"]\n",
    "plt.figure(figsize=(10, 12))\n",
    "plt.title(\"kang\")\n",
    "plt.plot(x,y,c='green')\n",
    "plt.show()"
   ]
  },
  {
   "cell_type": "code",
   "execution_count": 121,
   "metadata": {},
   "outputs": [],
   "source": [
    "main_df.to_csv(\"predict_new_hitter.csv\", index=False, encoding='utf-8')"
   ]
  },
  {
   "cell_type": "code",
   "execution_count": null,
   "metadata": {},
   "outputs": [],
   "source": []
  }
 ],
 "metadata": {
  "kernelspec": {
   "display_name": "Python 3 (ipykernel)",
   "language": "python",
   "name": "python3"
  },
  "language_info": {
   "codemirror_mode": {
    "name": "ipython",
    "version": 3
   },
   "file_extension": ".py",
   "mimetype": "text/x-python",
   "name": "python",
   "nbconvert_exporter": "python",
   "pygments_lexer": "ipython3",
   "version": "3.8.3"
  }
 },
 "nbformat": 4,
 "nbformat_minor": 4
}
